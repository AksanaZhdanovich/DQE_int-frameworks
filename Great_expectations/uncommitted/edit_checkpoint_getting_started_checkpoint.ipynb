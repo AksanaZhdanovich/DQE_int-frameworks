{
 "cells": [
  {
   "cell_type": "markdown",
   "id": "fdf6f9ff",
   "metadata": {},
   "source": [
    "# Create Your Checkpoint\n",
    "Use this notebook to configure a new Checkpoint and add it to your project:\n",
    "\n",
    "**Checkpoint Name**: `getting_started_checkpoint`"
   ]
  },
  {
   "cell_type": "code",
   "execution_count": 1,
   "id": "b2899a68",
   "metadata": {},
   "outputs": [
    {
     "name": "stderr",
     "output_type": "stream",
     "text": [
      "C:\\Users\\Aksana_Zhdanovich\\AppData\\Local\\Programs\\Python\\Python310\\lib\\site-packages\\great_expectations\\datasource\\data_connector\\runtime_data_connector.py:133: DeprecationWarning: Specifying batch_identifiers as part of the RuntimeDataConnector config is deprecated as of v0.15.1 and will be removed by v0.18. Please configure batch_identifiers as part of Assets instead.\n",
      "  warnings.warn(\n"
     ]
    }
   ],
   "source": [
    "from ruamel.yaml import YAML\n",
    "import great_expectations as ge\n",
    "from pprint import pprint\n",
    "\n",
    "yaml = YAML()\n",
    "context = ge.get_context()"
   ]
  },
  {
   "cell_type": "markdown",
   "id": "f89817d1",
   "metadata": {},
   "source": [
    "# Create a Checkpoint Configuration\n",
    "\n",
    "**If you are new to Great Expectations or the Checkpoint feature**, you should start with SimpleCheckpoint because it includes default configurations like a default list of post validation actions.\n",
    "\n",
    "In the cell below we have created a sample Checkpoint configuration using **your configuration** and **SimpleCheckpoint** to run a single validation of a single Expectation Suite against a single Batch of data.\n",
    "\n",
    "To keep it simple, we are just choosing the first available instance of each of the following items you have configured in your Data Context:\n",
    "* Datasource\n",
    "* DataConnector\n",
    "* DataAsset\n",
    "* Partition\n",
    "* Expectation Suite\n",
    "\n",
    "Of course this is purely an example, you may edit this to your heart's content.\n",
    "\n",
    "**My configuration is not so simple - are there more advanced options?**\n",
    "\n",
    "Glad you asked! Checkpoints are very versatile. For example, you can validate many Batches in a single Checkpoint, validate Batches against different Expectation Suites or against many Expectation Suites, control the specific post-validation actions based on Expectation Suite / Batch / results of validation among other features. Check out our documentation on Checkpoints for more details and for instructions on how to implement other more advanced features including using the **Checkpoint** class:\n",
    "- https://docs.greatexpectations.io/docs/reference/checkpoints_and_actions\n",
    "- https://docs.greatexpectations.io/docs/guides/validation/checkpoints/how_to_create_a_new_checkpoint\n",
    "- https://docs.greatexpectations.io/docs/guides/validation/checkpoints/how_to_configure_a_new_checkpoint_using_test_yaml_config"
   ]
  },
  {
   "cell_type": "code",
   "execution_count": 2,
   "id": "852a5655",
   "metadata": {},
   "outputs": [
    {
     "name": "stdout",
     "output_type": "stream",
     "text": [
      "\n",
      "name: getting_started_checkpoint\n",
      "config_version: 1.0\n",
      "class_name: SimpleCheckpoint\n",
      "run_name_template: \"%Y%m%d-%H%M%S-my-run-name-template\"\n",
      "validations:\n",
      "  - batch_request:\n",
      "      datasource_name: my_datasource\n",
      "      data_connector_name: default_inferred_data_connector_name\n",
      "      data_asset_name: dbo.AWBuildVersion\n",
      "      data_connector_query:\n",
      "        index: -1\n",
      "    expectation_suite_name: production_product_suite\n",
      "\n"
     ]
    }
   ],
   "source": [
    "my_checkpoint_name = \"getting_started_checkpoint\" # This was populated from your CLI command.\n",
    "\n",
    "yaml_config = f\"\"\"\n",
    "name: {my_checkpoint_name}\n",
    "config_version: 1.0\n",
    "class_name: SimpleCheckpoint\n",
    "run_name_template: \"%Y%m%d-%H%M%S-my-run-name-template\"\n",
    "validations:\n",
    "  - batch_request:\n",
    "      datasource_name: my_datasource\n",
    "      data_connector_name: default_inferred_data_connector_name\n",
    "      data_asset_name: dbo.AWBuildVersion\n",
    "      data_connector_query:\n",
    "        index: -1\n",
    "    expectation_suite_name: production_product_suite\n",
    "\"\"\"\n",
    "print(yaml_config)"
   ]
  },
  {
   "cell_type": "markdown",
   "id": "91ab1516",
   "metadata": {},
   "source": [
    "# Customize Your Configuration\n",
    "The following cells show examples for listing your current configuration. You can replace values in the sample configuration with these values to customize your Checkpoint."
   ]
  },
  {
   "cell_type": "code",
   "execution_count": 3,
   "id": "7503478d",
   "metadata": {},
   "outputs": [
    {
     "name": "stdout",
     "output_type": "stream",
     "text": [
      "{'my_datasource': {'default_inferred_data_connector_name': ['dbo.AWBuildVersion',\n",
      "                                                            'dbo.DatabaseLog',\n",
      "                                                            'dbo.ErrorLog',\n",
      "                                                            'HumanResources.Department',\n",
      "                                                            'HumanResources.Employee',\n",
      "                                                            'HumanResources.EmployeeDepartmentHistory',\n",
      "                                                            'HumanResources.EmployeePayHistory',\n",
      "                                                            'HumanResources.JobCandidate',\n",
      "                                                            'HumanResources.Shift',\n",
      "                                                            'HumanResources.vEmployee',\n",
      "                                                            'HumanResources.vEmployeeDepartment',\n",
      "                                                            'HumanResources.vEmployeeDepartmentHistory',\n",
      "                                                            'HumanResources.vJobCandidate',\n",
      "                                                            'HumanResources.vJobCandidateEducation',\n",
      "                                                            'HumanResources.vJobCandidateEmployment',\n",
      "                                                            'Person.Address',\n",
      "                                                            'Person.AddressType',\n",
      "                                                            'Person.BusinessEntity',\n",
      "                                                            'Person.BusinessEntityAddress',\n",
      "                                                            'Person.BusinessEntityContact',\n",
      "                                                            'Person.ContactType',\n",
      "                                                            'Person.CountryRegion',\n",
      "                                                            'Person.EmailAddress',\n",
      "                                                            'Person.Password',\n",
      "                                                            'Person.Person',\n",
      "                                                            'Person.PersonPhone',\n",
      "                                                            'Person.PhoneNumberType',\n",
      "                                                            'Person.StateProvince',\n",
      "                                                            'Person.vAdditionalContactInfo',\n",
      "                                                            'Person.vStateProvinceCountryRegion',\n",
      "                                                            'Production.BillOfMaterials',\n",
      "                                                            'Production.Culture',\n",
      "                                                            'Production.Document',\n",
      "                                                            'Production.Illustration',\n",
      "                                                            'Production.Location',\n",
      "                                                            'Production.Product',\n",
      "                                                            'Production.ProductCategory',\n",
      "                                                            'Production.ProductCostHistory',\n",
      "                                                            'Production.ProductDescription',\n",
      "                                                            'Production.ProductDocument',\n",
      "                                                            'Production.ProductInventory',\n",
      "                                                            'Production.ProductListPriceHistory',\n",
      "                                                            'Production.ProductModel',\n",
      "                                                            'Production.ProductModelIllustration',\n",
      "                                                            'Production.ProductModelProductDescriptionCulture',\n",
      "                                                            'Production.ProductPhoto',\n",
      "                                                            'Production.ProductProductPhoto',\n",
      "                                                            'Production.ProductReview',\n",
      "                                                            'Production.ProductSubcategory',\n",
      "                                                            'Production.ScrapReason',\n",
      "                                                            'Production.TransactionHistory',\n",
      "                                                            'Production.TransactionHistoryArchive',\n",
      "                                                            'Production.UnitMeasure',\n",
      "                                                            'Production.WorkOrder',\n",
      "                                                            'Production.WorkOrderRouting',\n",
      "                                                            'Production.vProductAndDescription',\n",
      "                                                            'Production.vProductModelCatalogDescription',\n",
      "                                                            'Production.vProductModelInstructions',\n",
      "                                                            'Purchasing.ProductVendor',\n",
      "                                                            'Purchasing.PurchaseOrderDetail',\n",
      "                                                            'Purchasing.PurchaseOrderHeader',\n",
      "                                                            'Purchasing.ShipMethod',\n",
      "                                                            'Purchasing.Vendor',\n",
      "                                                            'Purchasing.vVendorWithAddresses',\n",
      "                                                            'Purchasing.vVendorWithContacts',\n",
      "                                                            'Sales.CountryRegionCurrency',\n",
      "                                                            'Sales.CreditCard',\n",
      "                                                            'Sales.Currency',\n",
      "                                                            'Sales.CurrencyRate',\n",
      "                                                            'Sales.Customer',\n",
      "                                                            'Sales.PersonCreditCard',\n",
      "                                                            'Sales.SalesOrderDetail',\n",
      "                                                            'Sales.SalesOrderHeader',\n",
      "                                                            'Sales.SalesOrderHeaderSalesReason',\n",
      "                                                            'Sales.SalesPerson',\n",
      "                                                            'Sales.SalesPersonQuotaHistory',\n",
      "                                                            'Sales.SalesReason',\n",
      "                                                            'Sales.SalesTaxRate',\n",
      "                                                            'Sales.SalesTerritory',\n",
      "                                                            'Sales.SalesTerritoryHistory',\n",
      "                                                            'Sales.ShoppingCartItem',\n",
      "                                                            'Sales.SpecialOffer',\n",
      "                                                            'Sales.SpecialOfferProduct',\n",
      "                                                            'Sales.Store',\n",
      "                                                            'Sales.vIndividualCustomer',\n",
      "                                                            'Sales.vPersonDemographics',\n",
      "                                                            'Sales.vSalesPerson',\n",
      "                                                            'Sales.vSalesPersonSalesByFiscalYears',\n",
      "                                                            'Sales.vStoreWithAddresses',\n",
      "                                                            'Sales.vStoreWithContacts',\n",
      "                                                            'Sales.vStoreWithDemographics'],\n",
      "                   'default_runtime_data_connector_name': []}}\n"
     ]
    }
   ],
   "source": [
    "# Run this cell to print out the names of your Datasources, Data Connectors and Data Assets\n",
    "pprint(context.get_available_data_asset_names())"
   ]
  },
  {
   "cell_type": "code",
   "execution_count": 4,
   "id": "c42b4726",
   "metadata": {},
   "outputs": [
    {
     "data": {
      "text/plain": [
       "['product_suite', 'production_product_suite']"
      ]
     },
     "execution_count": 4,
     "metadata": {},
     "output_type": "execute_result"
    }
   ],
   "source": [
    "context.list_expectation_suite_names()"
   ]
  },
  {
   "cell_type": "markdown",
   "id": "5a770934",
   "metadata": {},
   "source": [
    "# Test Your Checkpoint Configuration\n",
    "Here we will test your Checkpoint configuration to make sure it is valid.\n",
    "\n",
    "This `test_yaml_config()` function is meant to enable fast dev loops. If your configuration is correct, this cell will show a message that you successfully instantiated a Checkpoint. You can continually edit your Checkpoint config yaml and re-run the cell to check until the new config is valid.\n",
    "\n",
    "If you instead wish to use python instead of yaml to configure your Checkpoint, you can use `context.add_checkpoint()` and specify all the required parameters."
   ]
  },
  {
   "cell_type": "code",
   "execution_count": 5,
   "id": "cc594984",
   "metadata": {},
   "outputs": [
    {
     "name": "stdout",
     "output_type": "stream",
     "text": [
      "Attempting to instantiate class from config...\n",
      "\tInstantiating as a SimpleCheckpoint, since class_name is SimpleCheckpoint\n",
      "\tSuccessfully instantiated SimpleCheckpoint\n",
      "\n",
      "\n",
      "Checkpoint class name: SimpleCheckpoint\n"
     ]
    }
   ],
   "source": [
    "my_checkpoint = context.test_yaml_config(yaml_config=yaml_config)"
   ]
  },
  {
   "cell_type": "markdown",
   "id": "74a1fd06",
   "metadata": {},
   "source": [
    "# Review Your Checkpoint\n",
    "\n",
    "You can run the following cell to print out the full yaml configuration. For example, if you used **SimpleCheckpoint**  this will show you the default action list."
   ]
  },
  {
   "cell_type": "code",
   "execution_count": 6,
   "id": "b9faf591",
   "metadata": {},
   "outputs": [
    {
     "name": "stdout",
     "output_type": "stream",
     "text": [
      "name: getting_started_checkpoint\n",
      "config_version: 1.0\n",
      "template_name:\n",
      "module_name: great_expectations.checkpoint\n",
      "class_name: Checkpoint\n",
      "run_name_template: '%Y%m%d-%H%M%S-my-run-name-template'\n",
      "expectation_suite_name:\n",
      "batch_request: {}\n",
      "action_list:\n",
      "  - name: store_validation_result\n",
      "    action:\n",
      "      class_name: StoreValidationResultAction\n",
      "  - name: store_evaluation_params\n",
      "    action:\n",
      "      class_name: StoreEvaluationParametersAction\n",
      "  - name: update_data_docs\n",
      "    action:\n",
      "      class_name: UpdateDataDocsAction\n",
      "      site_names: []\n",
      "evaluation_parameters: {}\n",
      "runtime_configuration: {}\n",
      "validations:\n",
      "  - batch_request:\n",
      "      datasource_name: my_datasource\n",
      "      data_connector_name: default_inferred_data_connector_name\n",
      "      data_asset_name: dbo.AWBuildVersion\n",
      "      data_connector_query:\n",
      "        index: -1\n",
      "    expectation_suite_name: production_product_suite\n",
      "profilers: []\n",
      "ge_cloud_id:\n",
      "expectation_suite_ge_cloud_id:\n",
      "\n"
     ]
    }
   ],
   "source": [
    "print(my_checkpoint.get_config(mode=\"yaml\"))"
   ]
  },
  {
   "cell_type": "markdown",
   "id": "10d020d4",
   "metadata": {},
   "source": [
    "# Add Your Checkpoint\n",
    "\n",
    "Run the following cell to save this Checkpoint to your Checkpoint Store."
   ]
  },
  {
   "cell_type": "code",
   "execution_count": 7,
   "id": "31f9957e",
   "metadata": {},
   "outputs": [
    {
     "data": {
      "text/plain": [
       "{\n",
       "  \"action_list\": [\n",
       "    {\n",
       "      \"name\": \"store_validation_result\",\n",
       "      \"action\": {\n",
       "        \"class_name\": \"StoreValidationResultAction\"\n",
       "      }\n",
       "    },\n",
       "    {\n",
       "      \"name\": \"store_evaluation_params\",\n",
       "      \"action\": {\n",
       "        \"class_name\": \"StoreEvaluationParametersAction\"\n",
       "      }\n",
       "    },\n",
       "    {\n",
       "      \"name\": \"update_data_docs\",\n",
       "      \"action\": {\n",
       "        \"class_name\": \"UpdateDataDocsAction\",\n",
       "        \"site_names\": []\n",
       "      }\n",
       "    }\n",
       "  ],\n",
       "  \"batch_request\": {},\n",
       "  \"class_name\": \"Checkpoint\",\n",
       "  \"config_version\": 1.0,\n",
       "  \"evaluation_parameters\": {},\n",
       "  \"module_name\": \"great_expectations.checkpoint\",\n",
       "  \"name\": \"getting_started_checkpoint\",\n",
       "  \"profilers\": [],\n",
       "  \"run_name_template\": \"%Y%m%d-%H%M%S-my-run-name-template\",\n",
       "  \"runtime_configuration\": {},\n",
       "  \"validations\": [\n",
       "    {\n",
       "      \"batch_request\": {\n",
       "        \"datasource_name\": \"my_datasource\",\n",
       "        \"data_connector_name\": \"default_inferred_data_connector_name\",\n",
       "        \"data_asset_name\": \"dbo.AWBuildVersion\",\n",
       "        \"data_connector_query\": {\n",
       "          \"index\": -1\n",
       "        }\n",
       "      },\n",
       "      \"expectation_suite_name\": \"production_product_suite\"\n",
       "    }\n",
       "  ]\n",
       "}"
      ]
     },
     "execution_count": 7,
     "metadata": {},
     "output_type": "execute_result"
    }
   ],
   "source": [
    "context.add_checkpoint(**yaml.load(yaml_config))"
   ]
  },
  {
   "cell_type": "markdown",
   "id": "d43cfe2a",
   "metadata": {},
   "source": [
    "# Run Your Checkpoint & Open Data Docs(Optional)\n",
    "\n",
    "You may wish to run the Checkpoint now and review its output in Data Docs. If so uncomment and run the following cell."
   ]
  },
  {
   "cell_type": "code",
   "execution_count": null,
   "id": "934f1670",
   "metadata": {},
   "outputs": [],
   "source": [
    "# context.run_checkpoint(checkpoint_name=my_checkpoint_name)\n",
    "# context.open_data_docs()"
   ]
  }
 ],
 "metadata": {
  "kernelspec": {
   "display_name": "Python 3 (ipykernel)",
   "language": "python",
   "name": "python3"
  },
  "language_info": {
   "codemirror_mode": {
    "name": "ipython",
    "version": 3
   },
   "file_extension": ".py",
   "mimetype": "text/x-python",
   "name": "python",
   "nbconvert_exporter": "python",
   "pygments_lexer": "ipython3",
   "version": "3.10.0"
  }
 },
 "nbformat": 4,
 "nbformat_minor": 5
}
